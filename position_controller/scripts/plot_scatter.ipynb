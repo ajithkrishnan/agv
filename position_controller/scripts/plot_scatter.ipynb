{
 "cells": [
  {
   "cell_type": "code",
   "execution_count": 5,
   "metadata": {},
   "outputs": [],
   "source": [
    "from mpl_toolkits.mplot3d import Axes3D\n",
    "import matplotlib.pyplot as plt\n",
    "import numpy as np\n",
    "import pandas as pd\n",
    "import plotly.graph_objs as go\n",
    "import plotly.tools as tls\n",
    "import time\n",
    "import plotly\n",
    "import glob"
   ]
  },
  {
   "cell_type": "code",
   "execution_count": 6,
   "metadata": {},
   "outputs": [
    {
     "data": {
      "text/html": [
       "<script type=\"text/javascript\">window.PlotlyConfig = {MathJaxConfig: 'local'};</script><script type=\"text/javascript\">if (window.MathJax) {MathJax.Hub.Config({SVG: {font: \"STIX-Web\"}});}</script><script>requirejs.config({paths: { 'plotly': ['https://cdn.plot.ly/plotly-latest.min']},});if(!window._Plotly) {require(['plotly'],function(plotly) {window._Plotly=plotly;});}</script>"
      ],
      "text/vnd.plotly.v1+html": [
       "<script type=\"text/javascript\">window.PlotlyConfig = {MathJaxConfig: 'local'};</script><script type=\"text/javascript\">if (window.MathJax) {MathJax.Hub.Config({SVG: {font: \"STIX-Web\"}});}</script><script>requirejs.config({paths: { 'plotly': ['https://cdn.plot.ly/plotly-latest.min']},});if(!window._Plotly) {require(['plotly'],function(plotly) {window._Plotly=plotly;});}</script>"
      ]
     },
     "metadata": {},
     "output_type": "display_data"
    }
   ],
   "source": [
    "plotly.offline.init_notebook_mode(connected=True) "
   ]
  },
  {
   "cell_type": "code",
   "execution_count": 22,
   "metadata": {},
   "outputs": [],
   "source": [
    "data_plan=pd.read_csv(r'/home/ros/agv_ws/src/agv/position_controller/scripts/plan.txt',sep= '\\t',header=None)\n",
    "data_pose=pd.read_csv(r'/home/ros/agv_ws/src/agv/position_controller/scripts/pose.txt',sep= '\\t',header=None)"
   ]
  },
  {
   "cell_type": "code",
   "execution_count": 23,
   "metadata": {},
   "outputs": [],
   "source": [
    "#data_pose"
   ]
  },
  {
   "cell_type": "code",
   "execution_count": 24,
   "metadata": {},
   "outputs": [
    {
     "data": {
      "text/plain": [
       "'file:///home/ros/Downloads/AGV_planvsgt.html'"
      ]
     },
     "execution_count": 24,
     "metadata": {},
     "output_type": "execute_result"
    }
   ],
   "source": [
    "trace_plan = go.Scatter(x = data_plan[1],\n",
    "                      y = data_plan[2], \n",
    "                      mode = 'lines+markers', \n",
    "                      name= 'Global Plan',\n",
    "                      line=dict(width= 2.5),\n",
    "                      marker=dict(\n",
    "                              size=5.5,\n",
    "                         ))\n",
    "\n",
    "trace_pose = go.Scatter(x = data_pose[1],\n",
    "                      y = data_pose[2], \n",
    "                      mode = 'lines+markers', \n",
    "                      name= 'Ground Truth',\n",
    "                      line=dict(width= 1.5),\n",
    "                    opacity=0.7\n",
    "                        ,\n",
    "                      marker=dict(\n",
    "                              size=3.5,\n",
    "                          color='Red'\n",
    "                         ))\n",
    "    \n",
    "data = [trace_plan, trace_pose]\n",
    "\n",
    "layout= go.Layout(\n",
    "    title= 'TebLocalPlanner Global Plan vs Gazebo Ground Truth',\n",
    "    hovermode= 'closest',\n",
    "    xaxis= dict(\n",
    "        title= 'X Coordinate',\n",
    "        ticklen= 5,\n",
    "        zeroline= False,\n",
    "        gridwidth= 2,\n",
    "    ),\n",
    "    yaxis=dict(\n",
    "        title= 'Y Coordinate',\n",
    "        ticklen= 5,\n",
    "        zeroline= True,\n",
    "        gridwidth= 2,\n",
    "    ),\n",
    "    \n",
    "    showlegend= True\n",
    ")\n",
    "fig= go.Figure(data=data, layout=layout)\n",
    "\n",
    "# Plot in a different tab!\n",
    "plotly.offline.plot(fig, filename='AGV_planvsgt.html')      \n",
    "\n",
    "#plotly.offline.iplot(fig, filename='Agv_pathVspose.html')   #To plot within the noteook\n",
    "                                                                "
   ]
  },
  {
   "cell_type": "code",
   "execution_count": null,
   "metadata": {},
   "outputs": [],
   "source": []
  }
 ],
 "metadata": {
  "kernelspec": {
   "display_name": "Python 3",
   "language": "python",
   "name": "python3"
  },
  "language_info": {
   "codemirror_mode": {
    "name": "ipython",
    "version": 3
   },
   "file_extension": ".py",
   "mimetype": "text/x-python",
   "name": "python",
   "nbconvert_exporter": "python",
   "pygments_lexer": "ipython3",
   "version": "3.5.2"
  }
 },
 "nbformat": 4,
 "nbformat_minor": 2
}
